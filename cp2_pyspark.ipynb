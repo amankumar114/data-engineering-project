{
  "nbformat": 4,
  "nbformat_minor": 0,
  "metadata": {
    "colab": {
      "name": "cp2_pyspark.ipynb",
      "private_outputs": true,
      "provenance": [],
      "collapsed_sections": [],
      "include_colab_link": true
    },
    "kernelspec": {
      "name": "python3",
      "display_name": "Python 3"
    },
    "language_info": {
      "name": "python"
    },
    "gpuClass": "standard"
  },
  "cells": [
    {
      "cell_type": "markdown",
      "metadata": {
        "id": "view-in-github",
        "colab_type": "text"
      },
      "source": [
        "<a href=\"https://colab.research.google.com/github/amankumar114/1st/blob/master/cp2_pyspark.ipynb\" target=\"_parent\"><img src=\"https://colab.research.google.com/assets/colab-badge.svg\" alt=\"Open In Colab\"/></a>"
      ]
    },
    {
      "cell_type": "code",
      "execution_count": null,
      "metadata": {
        "id": "8K6KAsatOqBF"
      },
      "outputs": [],
      "source": [
        "print('hello,all!')"
      ]
    },
    {
      "cell_type": "code",
      "source": [
        "pip install pyspark"
      ],
      "metadata": {
        "id": "o3zElF84O-1o"
      },
      "execution_count": null,
      "outputs": []
    },
    {
      "cell_type": "code",
      "source": [
        "import pandas as pd\n",
        "df=pd.read_csv(\"/content/sample_data/california_housing_train.csv\")\n",
        "print(df)"
      ],
      "metadata": {
        "id": "Wa5_Y7_dO-6g"
      },
      "execution_count": null,
      "outputs": []
    },
    {
      "cell_type": "code",
      "source": [
        "import pandas as pd\n",
        "df=pd.read_csv(\"/content/sample_data/mnist_test.csv\")\n",
        "print(df)"
      ],
      "metadata": {
        "id": "EVxCiucHQVxY"
      },
      "execution_count": null,
      "outputs": []
    },
    {
      "cell_type": "code",
      "source": [
        "from pyspark.sql import SparkSession\n",
        "spark=SparkSession.builder.getOrCreate()"
      ],
      "metadata": {
        "id": "PhkUSVGeQV2p"
      },
      "execution_count": null,
      "outputs": []
    },
    {
      "cell_type": "code",
      "source": [
        "from pyspark.sql import SparkSession\n",
        "spark=SparkSession.builder.appName(\"Pyspark Create RDD example\").config(\"spark.some.config.option\",\"some-value\").getOrCreate()\n",
        "Student=spark.createDataFrame([\n",
        "('01','Ram','70%','B.Tech(cs)'),\n",
        "('02','Shaym','70%','B.Tech(ec)'),\n",
        "('03','Madhu','70%','B.Tech(te)'),\n",
        "('04','Mita','70%','B.Tech(cs)'),\n",
        "('05','Hari','70%','B.Tech(cs)'),\n",
        "('06','Rita','70%','B.Tech(cs)'),\n",
        "('07','Ramm','70%','B.Tech(ec)')],\n",
        "['Roll No','Name','Percentage','Dept'])\n",
        "Student.show()"
      ],
      "metadata": {
        "id": "KllKIuZvT3d-"
      },
      "execution_count": null,
      "outputs": []
    },
    {
      "cell_type": "code",
      "source": [
        "from pyspark.sql import SparkSession\n",
        "spark=SparkSession.builder.appName(\"Pyspark Create RDD example\").config(\"spark.some.config.option\",\"some-value\").getOrCreate()\n",
        "df=spark.sparkContext.parallelize([\n",
        "(12,20,35,'a b c'),\n",
        "(41,34,64,'d e f'),\n",
        "(70,85,68,'g e f')]).toDF(['col1','col2','col3','col4'])\n",
        "df.show()"
      ],
      "metadata": {
        "id": "6ubV8CeCT3kQ"
      },
      "execution_count": null,
      "outputs": []
    },
    {
      "cell_type": "code",
      "source": [
        "import pandas as pd\n",
        "df=pd.DataFrame.from_dict({'Name':['Nik','Nik','Jane','Jane'],\n",
        "'Year':[2020,2021,2022,2019],\n",
        "'Sales':[1000,2300,2500,3000]})\n",
        "print(df)"
      ],
      "metadata": {
        "id": "K0EkeHUjcd4K"
      },
      "execution_count": null,
      "outputs": []
    },
    {
      "cell_type": "code",
      "source": [
        "from datetime import datetime,date\n",
        "import pandas as pd\n",
        "from pyspark.sql import Row\n",
        "df=spark.createDataFrame([\n",
        "Row(a=1,b=2,c='string1',d=date(2022,1,1),e=datetime(2022,1,1,12,0)),\n",
        "Row(a=2,b=3,c='string2',d=date(2022,2,1),e=datetime(2022,1,2,12,0)),\n",
        "Row(a=3,b=4,c='string3',d=date(2022,3,1),e=datetime(2022,1,3,12,0)),])\n",
        "df.show()\n",
        "df.show(2)"
      ],
      "metadata": {
        "id": "y27hD5YgghqZ"
      },
      "execution_count": null,
      "outputs": []
    },
    {
      "cell_type": "code",
      "source": [
        "rdd=spark.sparkContext.parallelize(\n",
        "[(1,2.,'string1',date(2022,1,1),datetime(2022,1,1,12,0)),\n",
        "(2,3.,'string2',date(2022,1,1),datetime(2022,1,1,12,0)),\n",
        "(3,4.,'string3',date(2022,1,1),datetime(2022,1,1,12,0))])\n",
        "df=spark.createDataFrame(rdd,schema=['a','b','c','d','e'])\n",
        "df.show()   "
      ],
      "metadata": {
        "id": "aXEan-JZghuA"
      },
      "execution_count": null,
      "outputs": []
    },
    {
      "cell_type": "code",
      "source": [
        "rdd=spark.sparkContext.parallelize(\n",
        "[(1,2.,'string1',date(2022,1,1),datetime(2022,1,1,12,0)),\n",
        "(2,3.,'string2',date(2022,1,1),datetime(2022,1,1,12,0)),\n",
        "(3,4.,'string3',date(2022,1,1),datetime(2022,1,1,12,0))])\n",
        "df\n",
        "df.show()\n",
        "df.select('a','b','c').describe().show()"
      ],
      "metadata": {
        "id": "Ag2OViXCqjuQ"
      },
      "execution_count": null,
      "outputs": []
    },
    {
      "cell_type": "code",
      "source": [
        "df.select('b').show()"
      ],
      "metadata": {
        "id": "bNmm6umCcd8a"
      },
      "execution_count": null,
      "outputs": []
    },
    {
      "cell_type": "code",
      "source": [
        "from pyspark.sql import Column\n",
        "from pyspark.sql.functions import upper\n",
        "type(df.c)==type(upper(df.c))==type(df.c.isNull())\n",
        "df.withColumn('upper_c',upper(df.c)).show()"
      ],
      "metadata": {
        "id": "OXtSaBC0sj6f"
      },
      "execution_count": null,
      "outputs": []
    },
    {
      "cell_type": "code",
      "source": [
        "df=spark.createDataFrame([\n",
        "['red','banana',1,10],['blue','banana',2,20],['red','carrot',3,30],\n",
        "['blue','grape',4,40],['red','carrot',5,50],['black','carrot',6,60],\n",
        "['red','cherry',7,70],['blue','grape',8,80]],schema=['color','fruit','v1','v2'])\n",
        "df.show()"
      ],
      "metadata": {
        "id": "HhNomI5wsj-t"
      },
      "execution_count": null,
      "outputs": []
    },
    {
      "cell_type": "code",
      "source": [
        "df.groupby('color').avg().show()"
      ],
      "metadata": {
        "id": "YILc2z8u6MjX"
      },
      "execution_count": null,
      "outputs": []
    },
    {
      "cell_type": "code",
      "source": [
        "df.groupby('color').count().show()"
      ],
      "metadata": {
        "id": "KJDzcmms6Mm-"
      },
      "execution_count": null,
      "outputs": []
    },
    {
      "cell_type": "code",
      "source": [
        "from pyspark import SparkContext\n",
        "sc=SparkContext.getOrCreate()\n",
        "words=sc.parallelize(['Python','Java','Hadoop','C','C++','Spark Vs Hadoop','Pyspark Vs Spark'])\n",
        "counts=words.count()\n",
        "print('Number of elements present in RDD -> %i'%(counts))"
      ],
      "metadata": {
        "id": "p4FKFf8lr7uq"
      },
      "execution_count": null,
      "outputs": []
    },
    {
      "cell_type": "code",
      "source": [
        "from pyspark import SparkContext\n",
        "sc=SparkContext.getOrCreate()\n",
        "words=sc.parallelize(['Python','Java','Hadoop','C','C++','Spark Vs Hadoop','Pyspark Vs Spark'])\n",
        "def f(x):\n",
        "  print(x)\n",
        "  fore=words.foreach(f)"
      ],
      "metadata": {
        "id": "RIZs3rL1sIP3"
      },
      "execution_count": null,
      "outputs": []
    },
    {
      "cell_type": "code",
      "source": [
        "import pyspark\n",
        "from pyspark.sql import SparkSession\n",
        "from pyspark.sql import functions as F\n",
        "spark=SparkSession.builder.appName('sparkdf').getOrCreate()\n",
        "data=[(1201,('sandipan','paul'),10000,24),\n",
        "(1201,('arman','mishra'),50000,26),\n",
        "(1201,('prasant','attri'),20000,25),\n",
        "(1201,('shasank','venna'),20000,24),\n",
        "(1201,('shriti','p'),30000,27),\n",
        "(1201,('vanshika','jain'),50000,26),\n",
        "(1201,('saikat','dutta'),10000,20),\n",
        "(1201,('pritam','d'),20000,24),\n",
        "(1201,('muskan','rohada'),80000,23),]\n",
        "columns=['EmpId','EmpName','Salary','Age']\n",
        "df=spark.createDataFrame(data,columns)\n",
        "print('original data')\n",
        "df.show()"
      ],
      "metadata": {
        "id": "U1rsFYxcsIUF"
      },
      "execution_count": null,
      "outputs": []
    },
    {
      "cell_type": "code",
      "source": [
        "df2=df.where(df.Age>=24)\n",
        "df2.show()"
      ],
      "metadata": {
        "id": "HVvLeS-n5Gs7"
      },
      "execution_count": null,
      "outputs": []
    },
    {
      "cell_type": "code",
      "source": [
        "df2=df.where((df.Age==24) & (df.Salary>10000))\n",
        "df2.show()\n",
        "df2=df.where(df['Age']==24)\n",
        "df2.show()\n",
        "df2=df.where('Age==24')\n",
        "df2.show()"
      ],
      "metadata": {
        "id": "EVs7bGwr5Gxw"
      },
      "execution_count": null,
      "outputs": []
    },
    {
      "cell_type": "code",
      "source": [
        "import pyspark\n",
        "from pyspark.sql import SparkSession\n",
        "spark = SparkSession \\\n",
        "      .builder \\\n",
        "      .appName('Python Spark create RDD example') \\\n",
        "      .config('spark.some.config.option','some value') \\\n",
        "      .getOrCreate()\n",
        "df = spark.read.format('csv') . \\\n",
        "             options(header='true', \\\n",
        "                     inferschema='true'). \\\n",
        "             load(\"/content/Companies.csv\",header=True)\n",
        "\n",
        "df.show(5)\n",
        "df.printSchema()"
      ],
      "metadata": {
        "id": "HmoMwRtOS7eb"
      },
      "execution_count": null,
      "outputs": []
    },
    {
      "cell_type": "code",
      "source": [
        "import pandas as pd\n",
        "ds=pd.Series([2,4,6,8,9])\n",
        "print(ds)"
      ],
      "metadata": {
        "id": "GThwycuBS7Zq"
      },
      "execution_count": null,
      "outputs": []
    },
    {
      "cell_type": "code",
      "source": [
        "import pandas as pd\n",
        "ds1=pd.Series([2,4,6,8,18])\n",
        "ds2=pd.Series([1,2,3,4,5])\n",
        "ds=ds1+ds2\n",
        "print(ds)\n",
        "ds=ds1-ds2\n",
        "print(ds)\n",
        "ds=ds1*ds2\n",
        "print(ds)\n",
        "ds=ds1/ds2\n",
        "print(ds)"
      ],
      "metadata": {
        "id": "vODP6TKSbV3e"
      },
      "execution_count": null,
      "outputs": []
    },
    {
      "cell_type": "code",
      "source": [
        "import pandas as pd\n",
        "ds1=pd.Series([2,4,6,8,10])\n",
        "ds2=pd.Series([1,2,3,4,5])\n",
        "print(ds1)\n",
        "print(ds2)\n",
        "print(ds1==ds2)\n",
        "print(ds1>ds2)\n",
        "print(ds1<ds2)"
      ],
      "metadata": {
        "id": "Wn607q1gbVzq"
      },
      "execution_count": null,
      "outputs": []
    },
    {
      "cell_type": "code",
      "source": [
        "pip install pyspark"
      ],
      "metadata": {
        "id": "Mm21yryZkaEp"
      },
      "execution_count": null,
      "outputs": []
    },
    {
      "cell_type": "code",
      "source": [
        "from pyspark.sql import SparkSession\n",
        "spark=SparkSession.builder.getOrCreate()"
      ],
      "metadata": {
        "id": "7fezlwyJTjPt"
      },
      "execution_count": null,
      "outputs": []
    },
    {
      "cell_type": "code",
      "source": [
        "import pandas as pd\n",
        "d1={'a':100,'b':200,'c':300,'d':400,'e':500}\n",
        "print(d1)\n",
        "new_series=pd.Series(d1)\n",
        "print(new_series)"
      ],
      "metadata": {
        "id": "SsAEuqck5HEE"
      },
      "execution_count": null,
      "outputs": []
    },
    {
      "cell_type": "code",
      "source": [
        "import numpy as np\n",
        "np_array=np.array([10,20,30,40,50])\n",
        "print(np_array)\n",
        "new_series=pd.Series(np_array)\n",
        "print(new_series)"
      ],
      "metadata": {
        "id": "oFNTTJBUiod7"
      },
      "execution_count": null,
      "outputs": []
    },
    {
      "cell_type": "code",
      "source": [
        "s1=pd.Series(['100','200','300','python','300.70','400'])\n",
        "print(s1)\n",
        "a=np.array(s1.values.tolist())\n",
        "print(a)"
      ],
      "metadata": {
        "id": "J68JoCiIiois"
      },
      "execution_count": null,
      "outputs": []
    },
    {
      "cell_type": "code",
      "source": [
        "s=pd.Series([['Red','Green','White'],['Red','Black','Cyan'],['Yellow']])\n",
        "print(s)\n",
        "s=s.apply(pd.Series).stack().reset_index(drop=True)\n",
        "print(s)\n",
        "print(pd.Series(s).sort_values())"
      ],
      "metadata": {
        "id": "HW26riocl0uy"
      },
      "execution_count": null,
      "outputs": []
    },
    {
      "cell_type": "code",
      "source": [
        "s=pd.Series(data=[1,2,3,4,5],index=['A','B','C','D','E'])\n",
        "print(s)\n",
        "s=s.reindex(index=['C','B','D','A','E'])\n",
        "print(s)"
      ],
      "metadata": {
        "id": "qBl8LrzkqlP2"
      },
      "execution_count": null,
      "outputs": []
    },
    {
      "cell_type": "code",
      "source": [
        "num_state=np.random.RandomState(100)\n",
        "num_series=pd.Series(num_state.normal(10,4,20))\n",
        "print(num_series)\n",
        "result=np.percentile(num_series,q=[0,25,50,75,100])\n",
        "print(result)"
      ],
      "metadata": {
        "id": "HXxNzyJmqlI5"
      },
      "execution_count": null,
      "outputs": []
    },
    {
      "cell_type": "code",
      "source": [
        "import pandas as pd\n",
        "series1=pd.Series([1,2,3,4,5,6,7,8,9,10])\n",
        "series2=pd.Series([1,3,5,7,9])\n",
        "print(series1)\n",
        "print(series2)\n",
        "result=[pd.Index(series1).get_loc(i)for i in series2]\n",
        "print(result)"
      ],
      "metadata": {
        "id": "wY7Pc-pvyiDX"
      },
      "execution_count": null,
      "outputs": []
    },
    {
      "cell_type": "code",
      "source": [
        "exam_data={'name':['Anderson','sai','kat'],\n",
        "'score':[12.5,40,20],\n",
        "'attemps':[1,2,3],\n",
        "'qualified':['yes','yes','no']}\n",
        "labels=['a','b','c']\n",
        "df=pd.DataFrame(exam_data,index=labels)\n",
        "print(df[df['score'].between(10,20)])"
      ],
      "metadata": {
        "id": "lbjlQ-_DqlDh"
      },
      "execution_count": null,
      "outputs": []
    },
    {
      "cell_type": "code",
      "source": [
        "exam_data={'name':['Anderson','sai','kat'],\n",
        "'score':[12.5,40,20],\n",
        "'attemps':[1,2,3],\n",
        "'qualified':['yes','yes','no']}\n",
        "labels=['a','b','c']\n",
        "df=pd.DataFrame(exam_data,index=labels)\n",
        "print(df['score'].mean())"
      ],
      "metadata": {
        "id": "nfKRdeQqclud"
      },
      "execution_count": null,
      "outputs": []
    },
    {
      "cell_type": "code",
      "source": [
        "exam_data={'name':['Anderson','sai','kat'],\n",
        "'score':[12.5,40,20],\n",
        "'attemps':[1,2,3],\n",
        "'qualified':['yes','yes','no']}\n",
        "labels=['a','b','c']\n",
        "df=pd.DataFrame(exam_data,index=labels)\n",
        "df['name']=df['name'].replace('sai','dutta')\n",
        "print(df)"
      ],
      "metadata": {
        "id": "gp-D9SKFi-15"
      },
      "execution_count": null,
      "outputs": []
    },
    {
      "cell_type": "code",
      "source": [
        "d={'col1':[1,4,5,6,7],'col2':[4,5,6,7,8],'col3':[7,8,9,11,12]}\n",
        "df=pd.DataFrame(data=d)\n",
        "print(df)\n",
        "df2={'col1':10,'col2':20,'col3':12}\n",
        "df=df.append(df2,ignore_index=True)\n",
        "print(df)"
      ],
      "metadata": {
        "id": "WQiPU0cKi-xH"
      },
      "execution_count": null,
      "outputs": []
    },
    {
      "cell_type": "code",
      "source": [
        "d={'col1':[1,4,5,6,7],'col2':[4,5,6,7,8],'col3':[7,8,9,11,12]}\n",
        "df=pd.DataFrame(data=d)\n",
        "print(df)\n",
        "if'col4' in df.columns:\n",
        "  print('present')\n",
        "else:\n",
        "  print('not present')\n",
        "if'col1' in df.columns:\n",
        "  print('present')\n",
        "else:\n",
        "  print('not present')"
      ],
      "metadata": {
        "id": "cFFWBjhVH48X"
      },
      "execution_count": null,
      "outputs": []
    },
    {
      "cell_type": "code",
      "source": [
        "df=pd.DataFrame({'school_code':['s001','s002','s003'],\n",
        "'class':['v','vi','vii'],'name':['aschool','bschool','cschool']})\n",
        "print(df)\n",
        "df1=df.set_index('school_code')\n",
        "print(df1)"
      ],
      "metadata": {
        "id": "J66bv9jCH43D"
      },
      "execution_count": null,
      "outputs": []
    },
    {
      "cell_type": "code",
      "source": [
        "df_i64=pd.DataFrame({'school_code':['s001','s002','s003'],\n",
        "'class':['v','vi','vii'],'name':['aschool','bschool','cschool']},\n",
        "index=[1,2,3])\n",
        "print(df_i64)\n",
        "print(df_i64.index)\n",
        "df_f64=pd.DataFrame({'school_code':['s001','s002','s003'],\n",
        "'class':['v','vi','vii'],'name':['aschool','bschool','cschool']},\n",
        "index=[0.1,0.2,0.3])\n",
        "print(df_f64)"
      ],
      "metadata": {
        "id": "T4oz0_p1vgIe"
      },
      "execution_count": null,
      "outputs": []
    },
    {
      "cell_type": "code",
      "source": [
        "import pandas as pd\n",
        "series1=pd.Series([1,2,3,4,5,6,7,8,9,10],\n",
        "index=['sid01','sid02','sid03','sid04','sid05','sid06','sid07','sid08','sid09','sid10'])\n",
        "print(series1)\n",
        "print(series1.index)"
      ],
      "metadata": {
        "id": "-PQezTEuzoFU"
      },
      "execution_count": null,
      "outputs": []
    },
    {
      "cell_type": "code",
      "source": [
        "exam_data = {'name': ['Anastasia', 'Dima', 'Katherine', 'Ramesh', 'Emily', 'Michael', 'Matthew', 'Laura', 'Kevin', 'Jonas'],\n",
        "'score': [12.5, 9, 16.5, np.nan, 9, 20, 14.5, np.nan, 8, 19],\n",
        "'attempts': [1, 3, 2, 3, 2, 3, 1, 1, 2, 1],\n",
        "'qualify': ['yes', 'no', 'yes', 'no', 'no', 'yes', 'yes', 'no', 'no', 'yes']}\n",
        "labels = ['a', 'b', 'c', 'd', 'e', 'f', 'g', 'h', 'i', 'j']\n",
        "df=pd.DataFrame(exam_data,index=labels)\n",
        "df['name']=df['name'].replace('Ramesh','Ganesh')\n",
        "print(df)"
      ],
      "metadata": {
        "id": "0eH0BJVvPFeH"
      },
      "execution_count": null,
      "outputs": []
    },
    {
      "cell_type": "code",
      "source": [
        "exam_data = {'name': ['Anastasia', 'Dima', 'Katherine', 'James', 'Emily', 'Michael', 'Matthew', 'Laura', 'Kevin', 'Jonas'],\n",
        "'score': [12.5, 9, 16.5, np.nan, 9, 20, 14.5, np.nan, 8, 19],\n",
        "'attempts': [1, 3, 2, 3, 2, 3, 1, 1, 2, 1],\n",
        "'qualify': ['yes', 'no', 'yes', 'no', 'no', 'yes', 'yes', 'no', 'no', 'yes']}\n",
        "labels = ['a', 'b', 'c', 'd', 'e', 'f', 'g', 'h', 'i', 'j']\n",
        "df=pd.DataFrame(exam_data,index=labels)\n",
        "print(df[df['score'].between(15,20)])"
      ],
      "metadata": {
        "id": "aG4hrJK3QfXh"
      },
      "execution_count": null,
      "outputs": []
    },
    {
      "cell_type": "code",
      "source": [
        "import pandas as pd\n",
        "sampleseries = pd.Series(['Suresh', 'ganesh', 'mahesh', 'Sudarshan'])\n",
        "print(\"Original Series:\")\n",
        "print(sampleseries)\n",
        "result = sampleseries.map(lambda x: x[0].upper() + x[1:-1] + x[-1].upper())\n",
        "print(\"\\n after upper case:\")\n",
        "print(result)"
      ],
      "metadata": {
        "id": "T5-vn5OmQfTM"
      },
      "execution_count": null,
      "outputs": []
    },
    {
      "cell_type": "code",
      "source": [
        "import pandas as pd\n",
        "ds=pd.Series([1,3,4,5,6,7,8,9],index=[0,1,2,3,4,5,6,7])\n",
        "print(ds)\n",
        "x=ds[ds==9].index[0]\n",
        "print(x)"
      ],
      "metadata": {
        "id": "f4uzPrs9QfO8"
      },
      "execution_count": null,
      "outputs": []
    },
    {
      "cell_type": "code",
      "source": [
        "import numpy as np\n",
        "s=pd.Series(['X','Y','Z','AaBa','Baca',np.nan,None])\n",
        "print(s)\n",
        "print(s.str.upper())\n",
        "print(s.str.lower())\n",
        "print(s.str.len())"
      ],
      "metadata": {
        "id": "F5mYe9vHpBml"
      },
      "execution_count": null,
      "outputs": []
    },
    {
      "cell_type": "code",
      "source": [
        "import pandas as pd\n",
        "student_data1 = pd.DataFrame({\n",
        "    'student_id':['S1','S2','S3','S4','S5'],\n",
        "    'name':['Daniel Freeman','Ryder Scott','Bruce Andros','Ed Bern','Morris Kwin'],\n",
        "    'Marks':[540, 530, 440, 560, 430]\n",
        "    })\n",
        "student_data2 = pd.DataFrame({\n",
        "    'student_id':['S4','S5','S6','S7','S8'],\n",
        "    'name':['Scarletter Fisher','Carla Williamson','Dante Hector','Kaiser William','Peterson Andrews'],\n",
        "    'Marks':[490,532,445,569,439]\n",
        "})\n",
        "print(\"Original DataFrames\")\n",
        "print(student_data1)\n",
        "print(\"----------------\")\n",
        "print(student_data2)\n",
        "print(\"\\nJoin the said DataFrames along with the rows\")\n",
        "result_data = pd.concat([student_data1, student_data2])\n",
        "print(result_data)"
      ],
      "metadata": {
        "id": "MXDpCFjlQfJt"
      },
      "execution_count": null,
      "outputs": []
    },
    {
      "cell_type": "code",
      "source": [
        "import pandas as pd\n",
        "student_data1 = pd.DataFrame({\n",
        "    'student_id':['S1','S2','S3','S4','S5'],\n",
        "    'name':['Daniel Freeman','Ryder Scott','Bruce Andros','Ed Bern','Morris Kwin'],\n",
        "    'Marks':[540, 530, 440, 560, 430]\n",
        "    })\n",
        "student_data2 = pd.DataFrame({\n",
        "    'student_id':['S4','S5','S6','S7','S8'],\n",
        "    'name':['Scarletter Fisher','Carla Williamson','Dante Hector','Kaiser William','Peterson Andrews'],\n",
        "    'Marks':[490,532,445,569,439]\n",
        "})\n",
        "print(\"Original DataFrames\")\n",
        "print(student_data1)\n",
        "print(\"----------------\")\n",
        "print(student_data2)\n",
        "print(\"\\nJoin the said DataFrames along with the rows\")\n",
        "result_data = pd.concat([student_data1, student_data2],axis=1)\n",
        "print(result_data)"
      ],
      "metadata": {
        "id": "55_niTbg6CdQ"
      },
      "execution_count": null,
      "outputs": []
    },
    {
      "cell_type": "code",
      "source": [
        "student_data1 = pd.DataFrame({\n",
        "    'student_id':['S1','S2','S3','S4','S5'],\n",
        "    'name':['Daniel Freeman','Ryder Scott','Bruce Andros','Ed Bern','Morris Kwin'],\n",
        "    'Marks':[540, 530, 440, 560, 430]\n",
        "    })\n",
        "s6=pd.Series(['S6','Scarlettee fisher','590'],index=['student_id','name','Marks'])\n",
        "print(student_data1)\n",
        "print(s6)\n",
        "combined_data=student_data1.append(s6,ignore_index=True)\n",
        "print(combined_data)"
      ],
      "metadata": {
        "id": "z49lNQo_xgjd"
      },
      "execution_count": null,
      "outputs": []
    },
    {
      "cell_type": "code",
      "source": [
        "merged_data=pd.merge(student_data1,student_data2,on='student_id',how='outer')\n",
        "print(merged_data)"
      ],
      "metadata": {
        "id": "DRLBRoLR79Mf"
      },
      "execution_count": null,
      "outputs": []
    },
    {
      "cell_type": "code",
      "source": [
        "import datetime\n",
        "from datetime import datetime\n",
        "print(datetime(2022,7,19,9,00))\n",
        "print(datetime.now())\n",
        "print(datetime.date(datetime(2022,7,19)))\n",
        "print(datetime.now().date())\n",
        "print(datetime.time(datetime(2022,7,19,11,00)))\n",
        "print(datetime.now().time())"
      ],
      "metadata": {
        "id": "HuJjHQH-79IU"
      },
      "execution_count": null,
      "outputs": []
    },
    {
      "cell_type": "code",
      "source": [
        "print(pd.Timestamp('2022-01-01'))\n",
        "print(pd.Timestamp('2022-01-01 11:30'))\n",
        "print(pd.Timestamp('2022-01-01'))\n",
        "print(pd.Timestamp('11:30'))\n",
        "print(pd.Timestamp('2022-01-01'))\n",
        "print(pd.Timestamp('now'))"
      ],
      "metadata": {
        "id": "rtJ5nduMxgp8"
      },
      "execution_count": null,
      "outputs": []
    },
    {
      "cell_type": "code",
      "source": [
        "from datetime import datetime\n",
        "date1=datetime(year=1968,month=12,day=26)\n",
        "print(date1)\n",
        "from dateutil import parser\n",
        "date2=parser.parse('1st January,1991')\n",
        "print(date2)"
      ],
      "metadata": {
        "id": "CFk3b9XrVyf5"
      },
      "execution_count": null,
      "outputs": []
    },
    {
      "cell_type": "code",
      "source": [
        "pd.set_option('display.max_rows',None)\n",
        "df=pd.DataFrame({\n",
        "'Cust_No':[9000101,9000101,np.nan,9000101,np.nan],\n",
        "'Account_balance':[10000,12000,np.nan,10000,np.nan],\n",
        "'date':['2018-10-05','2018-10-05','2018-10-05','2018-10-05','2018-10-05']})\n",
        "print(df)\n",
        "print(df.isna())"
      ],
      "metadata": {
        "id": "0Hf6GTyfVyb3"
      },
      "execution_count": null,
      "outputs": []
    },
    {
      "cell_type": "code",
      "source": [
        "import pandas as pd\n",
        "df=pd.read_excel('/content/Sales Tracker.xlsx')\n",
        "print(df)"
      ],
      "metadata": {
        "id": "iJatcI3jTgHC"
      },
      "execution_count": null,
      "outputs": []
    },
    {
      "cell_type": "code",
      "source": [
        "import pandas as pd\n",
        "cols=[1,2]\n",
        "df=pd.read_excel('/content/Sales Tracker.xlsx',usecols=cols)\n",
        "print(df)"
      ],
      "metadata": {
        "id": "2wpupHS2tzDj"
      },
      "execution_count": null,
      "outputs": []
    },
    {
      "cell_type": "code",
      "source": [
        "import matplotlib.pyplot as plt\n",
        "import numpy as np\n",
        "from sklearn import linear_model\n",
        "house_prices=[245,312,279,308,199,219,405,319,324,255]\n",
        "house_size=[1400,1600,1700,1100,1550,2350,2450,1425,1700,1875]\n",
        "print(house_size)\n",
        "new_house_size=np.array(house_size).reshape((-1,1))\n",
        "print(new_house_size)\n",
        "reg_model=linear_model.LinearRegression()\n",
        "reg_model.fit(new_house_size,house_prices)\n",
        "print('coefficients: ',reg_model.coef_)\n",
        "print('intercept:',reg_model.intercept_)\n",
        "def graph(formula,x_range):\n",
        "  x=np.array(x_range)\n",
        "  y=eval(formula)\n",
        "  plt.plot(x,y)\n",
        "  \n",
        "graph('reg_model.coef_*x+reg_model.intercept_',range(1000,2700))\n",
        "plt.scatter(new_house_size,house_prices,color='black')\n",
        "plt.ylabel('house prices')\n",
        "plt.xlabel('house sizes')\n",
        "plt.show()"
      ],
      "metadata": {
        "id": "nxPO7oiJwU3D"
      },
      "execution_count": null,
      "outputs": []
    },
    {
      "cell_type": "code",
      "source": [
        "import matplotlib.pyplot as plt\n",
        "x=[1,2,3,4,5]\n",
        "y=[10,20,30,40,50]\n",
        "plt.scatter(x,y)\n",
        "plt.show()"
      ],
      "metadata": {
        "id": "RJMkuqvotzHw"
      },
      "execution_count": null,
      "outputs": []
    },
    {
      "cell_type": "code",
      "source": [
        "from scipy import stats\n",
        "x=[1,2,3,4,5]\n",
        "y=[10,20,30,40,50]\n",
        "slope,intercept,r,p,std_err=stats.linregress(x,y)\n",
        "def myfunc(x):\n",
        "  return slope*x+intercept\n",
        "mymodel=list(map(myfunc,x))\n",
        "plt.scatter(x,y)\n",
        "plt.plot(x,mymodel)\n",
        "plt.show()"
      ],
      "metadata": {
        "id": "OaO0D7Gf8xTD"
      },
      "execution_count": null,
      "outputs": []
    },
    {
      "cell_type": "code",
      "source": [
        "import matplotlib.pyplot as plt\n",
        "x=[1,2,3,4,5,6,7,8,9,10]\n",
        "y=[11,22,33,44,55,66,77,88,99,100]\n",
        "plt.scatter(x,y)\n",
        "plt.show()"
      ],
      "metadata": {
        "id": "avADXwEzMl-M"
      },
      "execution_count": null,
      "outputs": []
    },
    {
      "cell_type": "code",
      "source": [
        "import matplotlib.pyplot as plt\n",
        "from sklearn.cluster import KMeans\n",
        "data=list(zip(x,y))\n",
        "inertias=[]\n",
        "\n",
        "for i in range(1,11):\n",
        "  kmeans=KMeans(n_clusters=i)\n",
        "  kmeans.fit(data)\n",
        "  inertias.append(kmeans.inertia_)\n",
        "\n",
        "plt.plot(range(1,11),inertias,marker='o')\n",
        "plt.title('elbow method')\n",
        "plt.xlabel('number of cluster')\n",
        "plt.ylabel('inertia')\n",
        "plt.show()\n",
        "kmeans=KMeans(n_clusters=2)\n",
        "kmeans.fit(data)\n",
        "plt.scatter(x,y,c=kmeans.labels_)\n",
        "plt.show()"
      ],
      "metadata": {
        "id": "RiLIEX1EMl53"
      },
      "execution_count": null,
      "outputs": []
    },
    {
      "cell_type": "code",
      "source": [
        "x=[5,6,7,8,9]\n",
        "y=[18,20,23,29,27]\n",
        "classes=[0,1,0,1,1]\n",
        "plt.scatter(x,y,c=classes)\n",
        "plt.show()"
      ],
      "metadata": {
        "id": "RO5dmge5-yyA"
      },
      "execution_count": null,
      "outputs": []
    },
    {
      "cell_type": "code",
      "source": [
        "from sklearn.neighbors import KNeighborsClassifier\n",
        "data=list(zip(x,y))\n",
        "knn=KNeighborsClassifier(n_neighbors=1)\n",
        "knn.fit(data,classes)"
      ],
      "metadata": {
        "id": "BuXm3WJq-yuQ"
      },
      "execution_count": null,
      "outputs": []
    },
    {
      "cell_type": "code",
      "source": [
        "new_x=8\n",
        "new_y=21\n",
        "new_point=[(new_x,new_y)]\n",
        "prediction=knn.predict(new_point)\n",
        "plt.scatter(x+[new_x],y+[new_y],c=classes+[prediction[0]])\n",
        "plt.text(x=new_x-1.7,y=new_y-0.7,s=f'new pont,class:{prediction[0]}')\n",
        "plt.show()"
      ],
      "metadata": {
        "id": "mLWYSrDa-yo-"
      },
      "execution_count": null,
      "outputs": []
    },
    {
      "cell_type": "code",
      "source": [
        "knn=KNeighborsClassifier(n_neighbors=5)\n",
        "knn.fit(data,classes)\n",
        "prediction=knn.predict(new_point)\n",
        "plt.scatter(x+[new_x],y+[new_y],c=classes+[prediction[0]])\n",
        "plt.text(x=new_x-1.7,y=new_y-0.7,s=f'new pont,class:{prediction[0]}')\n",
        "plt.show()"
      ],
      "metadata": {
        "id": "-tMX5BOPQ0A1"
      },
      "execution_count": null,
      "outputs": []
    },
    {
      "cell_type": "code",
      "source": [
        "import pyspark\n",
        "from pyspark.sql import SparkSession\n",
        "spark=SparkSession.builder.getOrCreate()\n",
        "df=spark.sql('''select 'spark' as hello ''')\n",
        "df.show()"
      ],
      "metadata": {
        "id": "nHWzna3HQz8V"
      },
      "execution_count": null,
      "outputs": []
    },
    {
      "cell_type": "code",
      "source": [
        "from pyspark import SparkContext\n",
        "from pyspark.sql import SQLContext\n",
        "import pyspark.sql\n",
        "companies=spark.read.csv(\"/content/Companies.csv\" ,inferSchema=True,header=True)\n",
        "companies.show()\n",
        "companies.select('State').show()\n",
        "companies.filter(companies['State']=='California').show()\n",
        "companies.groupBy('State').count().show()"
      ],
      "metadata": {
        "id": "1hJMSz5AHLRf"
      },
      "execution_count": null,
      "outputs": []
    },
    {
      "cell_type": "code",
      "source": [
        "import numpy as np\n",
        "import pandas as pd\n",
        "import matplotlib.pyplot as plt\n",
        "from matplotlib import style\n",
        "style.use(\"fivethirtyeight\")\n",
        "%matplotlib inline\n",
        "import seaborn as sns\n",
        "from statsmodels.stats.outliers_influence import variance_inflation_factor\n",
        "from sklearn.model_selection import train_test_split\n",
        "import warnings\n",
        "warnings.filterwarnings('ignore')\n",
        "\n",
        "from sklearn import preprocessing \n",
        "from sklearn.preprocessing import StandardScaler # For Feature Scaling\n",
        "from sklearn import linear_model\n",
        "from sklearn.metrics import mean_squared_error"
      ],
      "metadata": {
        "id": "vBjKVCHEylMY"
      },
      "execution_count": null,
      "outputs": []
    },
    {
      "cell_type": "code",
      "source": [
        "#importing the required dataset\n",
        "\n",
        "df=pd.read_csv(\"/content/dev_demog.csv\")\n",
        "df.head()"
      ],
      "metadata": {
        "id": "A1-HhvAkylIk"
      },
      "execution_count": null,
      "outputs": []
    },
    {
      "cell_type": "code",
      "source": [
        "#shape of the data(rows , columns)\n",
        "df.shape"
      ],
      "metadata": {
        "id": "Z3lg1wR9ylEc"
      },
      "execution_count": null,
      "outputs": []
    },
    {
      "cell_type": "code",
      "source": [
        "df.info()"
      ],
      "metadata": {
        "id": "LcQjFEX8ylAi"
      },
      "execution_count": null,
      "outputs": []
    },
    {
      "cell_type": "code",
      "source": [
        "df.isnull().sum()"
      ],
      "metadata": {
        "id": "uXD3W1f_zYJV"
      },
      "execution_count": null,
      "outputs": []
    },
    {
      "cell_type": "code",
      "source": [
        "null = pd.DataFrame({'Null_Values' : df.isna().sum(), 'Percentage_Null_Values' :\n",
        "                     round((df.isna().sum()) / (df.shape[0]) * (100),2)})\n",
        "null"
      ],
      "metadata": {
        "id": "nGBKPiWTyk4q"
      },
      "execution_count": null,
      "outputs": []
    },
    {
      "cell_type": "code",
      "source": [
        "percent_null = round((df.isnull().sum()/df.shape[0])*100,2)\n",
        "percent_null"
      ],
      "metadata": {
        "id": "tQCrz9LNyk0a"
      },
      "execution_count": null,
      "outputs": []
    },
    {
      "cell_type": "code",
      "source": [
        "# identify columns only with null values\n",
        "null_columns = percent_null[percent_null>35]\n",
        "null_columns"
      ],
      "metadata": {
        "id": "B-2v-RL6ykv_"
      },
      "execution_count": null,
      "outputs": []
    },
    {
      "cell_type": "code",
      "source": [
        "# removing 5 columns having null percentage more than 35%.\n",
        "df = df.drop(null_columns.index, axis =1)\n",
        "df.shape"
      ],
      "metadata": {
        "id": "hpdxNdB_z1Wd"
      },
      "execution_count": null,
      "outputs": []
    },
    {
      "cell_type": "code",
      "source": [
        "dfn=df.select_dtypes(exclude=[\"bool_\",\"object_\"])\n",
        "dfn.head()"
      ],
      "metadata": {
        "id": "jn1N9GR3z1aF"
      },
      "execution_count": null,
      "outputs": []
    },
    {
      "cell_type": "code",
      "source": [
        "dfn.columns"
      ],
      "metadata": {
        "id": "FOdGJhugykr6"
      },
      "execution_count": null,
      "outputs": []
    },
    {
      "cell_type": "code",
      "source": [
        "dfn.drop(['Dummy_application_id',\n",
        "          'Doc_form_16','income_min','edu_max','age_min','emi_income_max'],1,inplace=True)"
      ],
      "metadata": {
        "id": "nubfZHdJ1Kdm"
      },
      "execution_count": null,
      "outputs": []
    },
    {
      "cell_type": "code",
      "source": [
        "demog = dfn\n",
        "demog"
      ],
      "metadata": {
        "id": "J-VcR7nr1KYv"
      },
      "execution_count": null,
      "outputs": []
    },
    {
      "cell_type": "code",
      "source": [
        "demog.columns"
      ],
      "metadata": {
        "id": "PwGglJU-ykoa"
      },
      "execution_count": null,
      "outputs": []
    },
    {
      "cell_type": "code",
      "source": [
        "out = ['Max_dependent', 'LTV', 'income_max', 'income_sum', 'edu_min',\n",
        "       'age_max', 'cnt_coapplicant', 'REQUESTED_TENUREFLAG',\n",
        "       'PROPERTY_INSURANCE_AMT', 'City_tier', 'FOIR2', 'emi_income_sum']"
      ],
      "metadata": {
        "id": "76nTE_EE1ZRY"
      },
      "execution_count": null,
      "outputs": []
    },
    {
      "cell_type": "code",
      "source": [
        "print(plt.style.available)"
      ],
      "metadata": {
        "id": "b9E1MPBc1bHb"
      },
      "execution_count": null,
      "outputs": []
    },
    {
      "cell_type": "code",
      "source": [
        "style.use(\"seaborn-pastel\")\n",
        "n = 1\n",
        "plt.figure(figsize=(20,10))\n",
        "\n",
        "for i in out:\n",
        "    plt.subplot(4,3,n)\n",
        "    sns.boxplot(y=demog[i],color = 'violet')\n",
        "    n+=1\n",
        "plt.tight_layout()"
      ],
      "metadata": {
        "id": "y-eA47hO1bLk"
      },
      "execution_count": null,
      "outputs": []
    },
    {
      "cell_type": "code",
      "source": [
        "def remove_outlier_using_IQR(demog):\n",
        "    Q1=demog.quantile(0.25)\n",
        "    Q3=demog.quantile(0.75)\n",
        "    IQR=Q3-Q1\n",
        "    df_final_output = np.where(demog> (Q1+1.5*IQR) , (Q1+1.5*IQR) ,\n",
        "                        np.where(demog< (Q1-1.5*IQR), (Q1-1.5*IQR),\n",
        "                                 demog))\n",
        "    return df_final_output"
      ],
      "metadata": {
        "id": "YoGoxG101bPo"
      },
      "execution_count": null,
      "outputs": []
    },
    {
      "cell_type": "code",
      "source": [
        "out1 = ['income_sum',\n",
        "            'FOIR2',\n",
        "           'income_max',\n",
        "       'emi_income_sum']"
      ],
      "metadata": {
        "id": "asw0hqhr1bTi"
      },
      "execution_count": null,
      "outputs": []
    },
    {
      "cell_type": "code",
      "source": [
        "for i in out1:\n",
        "    demog[i] = remove_outlier_using_IQR(demog[i])"
      ],
      "metadata": {
        "id": "cbL1C9-c1_hP"
      },
      "execution_count": null,
      "outputs": []
    },
    {
      "cell_type": "code",
      "source": [
        "style.use(\"seaborn-pastel\")\n",
        "n = 1\n",
        "plt.figure(figsize=(20,10))\n",
        "\n",
        "for i in out1:\n",
        "    plt.subplot(2,2,n)\n",
        "    sns.boxplot(y=demog[i],color = 'm')\n",
        "    n+=1\n",
        "plt.tight_layout()"
      ],
      "metadata": {
        "id": "-g1-bGe61_dF"
      },
      "execution_count": null,
      "outputs": []
    },
    {
      "cell_type": "code",
      "source": [
        "demog.head()"
      ],
      "metadata": {
        "id": "jWCOSne21_Y1"
      },
      "execution_count": null,
      "outputs": []
    },
    {
      "cell_type": "code",
      "source": [
        "percent_null = round((demog.isnull().sum()/df.shape[0])*100,2)\n",
        "percent_null.head()"
      ],
      "metadata": {
        "id": "7ju0Z0TB2IXS"
      },
      "execution_count": null,
      "outputs": []
    },
    {
      "cell_type": "code",
      "source": [
        "# identify columns only with null values\n",
        "null_columns = percent_null[percent_null>0]\n",
        "null_columns"
      ],
      "metadata": {
        "id": "lrqVM9M62Ib3"
      },
      "execution_count": null,
      "outputs": []
    },
    {
      "cell_type": "code",
      "source": [
        "num_col = ['FOIR2','LTV','income_sum','income_max',\n",
        "           'emi_income_sum']\n",
        "for col in num_col:\n",
        "    demog[col]=pd.to_numeric(demog[col])\n",
        "    demog[col].fillna(demog[col].mean(), inplace=True)"
      ],
      "metadata": {
        "id": "PUcXkjGX2l75"
      },
      "execution_count": null,
      "outputs": []
    },
    {
      "cell_type": "code",
      "source": [
        "demog.isnull().sum()"
      ],
      "metadata": {
        "id": "l_nKAV9b2IgL"
      },
      "execution_count": null,
      "outputs": []
    },
    {
      "cell_type": "code",
      "source": [
        "demog.describe()"
      ],
      "metadata": {
        "id": "gWQPzxdx2Ikd"
      },
      "execution_count": null,
      "outputs": []
    },
    {
      "cell_type": "code",
      "source": [
        "demog.skew()"
      ],
      "metadata": {
        "id": "fqXIMRsm2Itn"
      },
      "execution_count": null,
      "outputs": []
    },
    {
      "cell_type": "code",
      "source": [
        "x1 = demog[['Max_dependent','LTV','income_sum','income_max','edu_min',\n",
        "        'age_max',\n",
        "        'cnt_coapplicant',\n",
        "        'PROPERTY_INSURANCE_AMT',\n",
        "        'City_tier',\n",
        "        'FOIR2']]\n",
        "\n",
        "y = demog['ever60_24m_StrictFlag']"
      ],
      "metadata": {
        "id": "ssvJxgvD1_Ul"
      },
      "execution_count": null,
      "outputs": []
    },
    {
      "cell_type": "code",
      "source": [
        "sc = StandardScaler()\n",
        "x2= sc.fit_transform(x1)"
      ],
      "metadata": {
        "id": "bkoRswCX27dU"
      },
      "execution_count": null,
      "outputs": []
    },
    {
      "cell_type": "code",
      "source": [
        "demog_data = pd.DataFrame(x2)\n",
        "\n",
        "demog_data.columns = x1.columns\n",
        "\n",
        "demog_data"
      ],
      "metadata": {
        "id": "hY1MWczn27ig"
      },
      "execution_count": null,
      "outputs": []
    },
    {
      "cell_type": "code",
      "source": [
        "#Checking the VIF Value\n",
        "\n",
        "from statsmodels.stats.outliers_influence import variance_inflation_factor\n",
        "\n",
        "vif = pd.DataFrame()\n",
        "\n",
        "vif[\"VIF\"] =[variance_inflation_factor(demog_data.values, j) for j in range(demog_data.shape[1])]\n",
        "vif[\"features\"] = demog_data.columns"
      ],
      "metadata": {
        "id": "T578fY4j27mg"
      },
      "execution_count": null,
      "outputs": []
    },
    {
      "cell_type": "code",
      "source": [
        "vif"
      ],
      "metadata": {
        "id": "_eJhnIYh6TDK"
      },
      "execution_count": null,
      "outputs": []
    },
    {
      "cell_type": "code",
      "source": [
        "x=demog_data"
      ],
      "metadata": {
        "id": "_IPtt1q86THn"
      },
      "execution_count": null,
      "outputs": []
    },
    {
      "cell_type": "code",
      "source": [
        "#for splitting the dataset into test data and train data\n",
        "from sklearn.model_selection import train_test_split"
      ],
      "metadata": {
        "id": "cbj-HikF27vb"
      },
      "execution_count": null,
      "outputs": []
    },
    {
      "cell_type": "code",
      "source": [
        "x_train,x_test,y_train,y_test = train_test_split(x,y,test_size=0.2,random_state=232)"
      ],
      "metadata": {
        "id": "yXMavVRH7Eiq"
      },
      "execution_count": null,
      "outputs": []
    },
    {
      "cell_type": "code",
      "source": [
        "#Understanding the shape/dimensions of x_train, y _train, etc.\n",
        "print(x_train.shape, y_train.shape)\n",
        "print(x_test.shape, y_test.shape)"
      ],
      "metadata": {
        "id": "IJl4G9FB7Edl"
      },
      "execution_count": null,
      "outputs": []
    },
    {
      "cell_type": "code",
      "source": [
        "from sklearn.linear_model import LogisticRegression\n",
        "from sklearn.metrics import accuracy_score,confusion_matrix, roc_curve, roc_auc_score\n",
        "from sklearn.metrics import classification_report"
      ],
      "metadata": {
        "id": "ih_GbDaE7EYp"
      },
      "execution_count": null,
      "outputs": []
    },
    {
      "cell_type": "code",
      "source": [
        "# Fitting the Logistic Regression model\n",
        "log_reg = LogisticRegression()\n",
        "log_reg.fit(x_train,y_train)"
      ],
      "metadata": {
        "id": "zgajbNjK73xX"
      },
      "execution_count": null,
      "outputs": []
    },
    {
      "cell_type": "code",
      "source": [
        "# Calculating the predicted value of Y\n",
        "y_pred = log_reg.predict(x_test)\n",
        "y_pred"
      ],
      "metadata": {
        "id": "MXPyX7Jz73DI"
      },
      "execution_count": null,
      "outputs": []
    },
    {
      "cell_type": "code",
      "source": [
        "# Creating the Confusion Matrix\n",
        "con_mat = confusion_matrix(y_test,y_pred)\n",
        "con_mat"
      ],
      "metadata": {
        "id": "xM_sxzo372_Q"
      },
      "execution_count": null,
      "outputs": []
    },
    {
      "cell_type": "code",
      "source": [
        "# Calculating the Accuracy using actual y value in test data to the predicted y value\n",
        "accuracy = accuracy_score(y_test,y_pred)\n",
        "accuracy"
      ],
      "metadata": {
        "id": "6yyuawKn8GnI"
      },
      "execution_count": null,
      "outputs": []
    },
    {
      "cell_type": "code",
      "source": [
        "print(classification_report(y_test,y_pred))"
      ],
      "metadata": {
        "id": "eApQCgjg8Gr1"
      },
      "execution_count": null,
      "outputs": []
    },
    {
      "cell_type": "code",
      "source": [
        "# Using sm.GLM()\n",
        "import statsmodels.api as sm\n",
        "x_train_d = sm.add_constant(x_train)\n",
        "x_test_d = sm.add_constant(x_test)"
      ],
      "metadata": {
        "id": "9PzWE_gA8GwM"
      },
      "execution_count": null,
      "outputs": []
    },
    {
      "cell_type": "code",
      "source": [
        "m = sm.GLM(y_train,x_train_d,family=sm.families.Binomial())\n",
        "model = m.fit()"
      ],
      "metadata": {
        "id": "ueMI-CXc8Xwa"
      },
      "execution_count": null,
      "outputs": []
    },
    {
      "cell_type": "code",
      "source": [
        "print(model.summary())"
      ],
      "metadata": {
        "id": "gtIro1XW8XsU"
      },
      "execution_count": null,
      "outputs": []
    },
    {
      "cell_type": "code",
      "source": [
        "auc = roc_auc_score(y_test,y_pred)\n",
        "auc"
      ],
      "metadata": {
        "id": "YTcufH9E8Xne"
      },
      "execution_count": null,
      "outputs": []
    },
    {
      "cell_type": "code",
      "source": [
        "# Plotting the ROC\n",
        "fpr,tpr,thresholds = roc_curve(y_test,y_pred)\n",
        "plt.plot(fpr,tpr,color='orange',label='ROC')\n",
        "plt.plot([0,1],[0,1],color='darkblue',linestyle='--',label='ROC curve area=%0.2f'%auc)\n",
        "plt.xlabel('False Positive Rate',c='brown')\n",
        "plt.ylabel('True Positive Rate',c='brown')\n",
        "plt.title('ROC')\n",
        "plt.legend()\n",
        "plt.show"
      ],
      "metadata": {
        "id": "DkYGHWdy8Vv-"
      },
      "execution_count": null,
      "outputs": []
    },
    {
      "cell_type": "code",
      "source": [
        "y.value_counts()"
      ],
      "metadata": {
        "id": "1KVJ7iC9ykkR"
      },
      "execution_count": null,
      "outputs": []
    },
    {
      "cell_type": "code",
      "source": [
        "import os\n",
        "import numpy as np\n",
        "import pandas as pd\n",
        "import sklearn\n",
        "from imblearn.over_sampling import RandomOverSampler\n",
        "from imblearn.under_sampling import RandomUnderSampler"
      ],
      "metadata": {
        "id": "NaE1EifO8qIo"
      },
      "execution_count": null,
      "outputs": []
    },
    {
      "cell_type": "code",
      "source": [
        "#oversampling\n",
        "over_sampler = RandomOverSampler()\n",
        "x1,y1 = over_sampler.fit_resample(x,y)"
      ],
      "metadata": {
        "id": "q4m79z048qNR"
      },
      "execution_count": null,
      "outputs": []
    },
    {
      "cell_type": "code",
      "source": [
        "x.shape , y.shape"
      ],
      "metadata": {
        "id": "qesU7Q4W8qR_"
      },
      "execution_count": null,
      "outputs": []
    },
    {
      "cell_type": "code",
      "source": [
        "x1.shape , y1.shape"
      ],
      "metadata": {
        "id": "GPx9L2WG87xe"
      },
      "execution_count": null,
      "outputs": []
    },
    {
      "cell_type": "code",
      "source": [
        "from collections import Counter\n",
        "print('Original dataset shape {}'.format(Counter(y)))\n",
        "print('Resampled dataset shape {}'.format(Counter(y1)))"
      ],
      "metadata": {
        "id": "UMmZst0u872O"
      },
      "execution_count": null,
      "outputs": []
    },
    {
      "cell_type": "code",
      "source": [
        "x1"
      ],
      "metadata": {
        "id": "BmvVxJ6E876S"
      },
      "execution_count": null,
      "outputs": []
    },
    {
      "cell_type": "code",
      "source": [
        "x_train1,x_test1,y_train1,y_test1 = train_test_split(x1,y1,test_size=0.2,random_state=232)"
      ],
      "metadata": {
        "id": "IVSiN-v59Hho"
      },
      "execution_count": null,
      "outputs": []
    },
    {
      "cell_type": "code",
      "source": [
        "#Understanding the shape/dimensions of x_train, y _train, etc.\n",
        "print(x_train1.shape, y_train1.shape)\n",
        "print(x_test1.shape, y_test1.shape)"
      ],
      "metadata": {
        "id": "g3tO4xR79Hok"
      },
      "execution_count": null,
      "outputs": []
    },
    {
      "cell_type": "code",
      "source": [
        "# Fitting the Logistic Regression model\n",
        "log_reg = LogisticRegression()\n",
        "log_reg.fit(x_train1,y_train1)"
      ],
      "metadata": {
        "id": "D813d1zB9HuQ"
      },
      "execution_count": null,
      "outputs": []
    },
    {
      "cell_type": "code",
      "source": [
        "# Calculating the predicted value of Y\n",
        "y_pred1 = log_reg.predict(x_test1)\n",
        "y_pred1"
      ],
      "metadata": {
        "id": "Ce28u3hL9HzF"
      },
      "execution_count": null,
      "outputs": []
    },
    {
      "cell_type": "code",
      "source": [
        "# Creating the Confusion Matrix\n",
        "con_mat1 = confusion_matrix(y_test1,y_pred1)\n",
        "con_mat1"
      ],
      "metadata": {
        "id": "8OG1qe5J9H5f"
      },
      "execution_count": null,
      "outputs": []
    },
    {
      "cell_type": "code",
      "source": [
        "# Calculating the Accuracy using actual y value in test data to the predicted y value\n",
        "accuracy1 = accuracy_score(y_test1,y_pred1)\n",
        "accuracy1"
      ],
      "metadata": {
        "id": "PKh04iM_87-V"
      },
      "execution_count": null,
      "outputs": []
    },
    {
      "cell_type": "code",
      "source": [
        "print(classification_report(y_test1,y_pred1))"
      ],
      "metadata": {
        "id": "adU2v33M91Yv"
      },
      "execution_count": null,
      "outputs": []
    },
    {
      "cell_type": "code",
      "source": [
        "# Using sm.GLM()\n",
        "import statsmodels.api as sm\n",
        "x_train_d1 = sm.add_constant(x_train1)\n",
        "x_test_d1 = sm.add_constant(x_test1)"
      ],
      "metadata": {
        "id": "B1KPEbo591d1"
      },
      "execution_count": null,
      "outputs": []
    },
    {
      "cell_type": "code",
      "source": [
        "m = sm.GLM(y_train1,x_train_d1,family=sm.families.Binomial())\n",
        "model1 = m.fit()"
      ],
      "metadata": {
        "id": "aOe6ErFm91nU"
      },
      "execution_count": null,
      "outputs": []
    },
    {
      "cell_type": "code",
      "source": [
        "print(model1.summary())"
      ],
      "metadata": {
        "id": "qgECYgmP-A9T"
      },
      "execution_count": null,
      "outputs": []
    },
    {
      "cell_type": "code",
      "source": [
        "TP = con_mat1[1][1]\n",
        "FP = con_mat1[0][1]\n",
        "FN = con_mat1[1][0]\n",
        "TN = con_mat1[0][0]"
      ],
      "metadata": {
        "id": "AZoYFztR-IWG"
      },
      "execution_count": null,
      "outputs": []
    },
    {
      "cell_type": "code",
      "source": [
        "# Manually calculating the different metrics\n",
        "# Accuracy\n",
        "Accuracy = (TP + TN)/(TP + TN + FP + FN)\n",
        "Accuracy"
      ],
      "metadata": {
        "id": "R7S9QvNT-IRX"
      },
      "execution_count": null,
      "outputs": []
    },
    {
      "cell_type": "code",
      "source": [
        "# Recall or Sensitivity or TPR\n",
        "Recall = TP/(TP + FN)\n",
        "Recall"
      ],
      "metadata": {
        "id": "hHq584eX-INU"
      },
      "execution_count": null,
      "outputs": []
    },
    {
      "cell_type": "code",
      "source": [
        "# Precision\n",
        "Precision = TP/(TP + FP)\n",
        "Precision"
      ],
      "metadata": {
        "id": "3z1FUZ1K-IJK"
      },
      "execution_count": null,
      "outputs": []
    },
    {
      "cell_type": "code",
      "source": [
        "# Specificity or TNR\n",
        "Specificity = TN/(TN + FP)\n",
        "Specificity"
      ],
      "metadata": {
        "id": "ZYRVYSEC-IEm"
      },
      "execution_count": null,
      "outputs": []
    },
    {
      "cell_type": "code",
      "source": [
        "# F1-Score\n",
        "\n",
        "F1_Score = 2*Precision*Recall/(Precision + Recall)\n",
        "F1_Score"
      ],
      "metadata": {
        "id": "o77KFeOS-XqW"
      },
      "execution_count": null,
      "outputs": []
    },
    {
      "cell_type": "code",
      "source": [
        "auc = roc_auc_score(y_test1,y_pred1)\n",
        "auc"
      ],
      "metadata": {
        "id": "HIwsYjF4-a53"
      },
      "execution_count": null,
      "outputs": []
    },
    {
      "cell_type": "code",
      "source": [
        "# Plotting the ROC\n",
        "fpr,tpr,thresholds = roc_curve(y_test1,y_pred1)\n",
        "plt.plot(fpr,tpr,color='orange',label='ROC')\n",
        "plt.plot([0,1],[0,1],color='darkblue',linestyle='--',label='ROC curve area=%0.2f'%auc)\n",
        "plt.xlabel('False Positive Rate',c='brown')\n",
        "plt.ylabel('True Positive Rate',c='brown')\n",
        "plt.title('ROC')\n",
        "plt.legend()\n",
        "plt.show"
      ],
      "metadata": {
        "id": "eBbKo9CZ-eDf"
      },
      "execution_count": null,
      "outputs": []
    },
    {
      "cell_type": "code",
      "source": [
        ""
      ],
      "metadata": {
        "id": "nvYT0dRN-eH-"
      },
      "execution_count": null,
      "outputs": []
    },
    {
      "cell_type": "code",
      "source": [
        "# Data Ingestion \n",
        "\n",
        "import matplotlib"
      ],
      "metadata": {
        "id": "yoYikPIE-eMc"
      },
      "execution_count": null,
      "outputs": []
    },
    {
      "cell_type": "code",
      "source": [
        "print(matplotlib.__version__)"
      ],
      "metadata": {
        "id": "KLobqVJ7ypVU"
      },
      "execution_count": null,
      "outputs": []
    },
    {
      "cell_type": "code",
      "source": [
        "import matplotlib.pyplot\n",
        "import numpy as np\n",
        "import matplotlib.pyplot as plt\n"
      ],
      "metadata": {
        "id": "r8ffpM23yy_M"
      },
      "execution_count": null,
      "outputs": []
    },
    {
      "cell_type": "code",
      "source": [
        "x = np.array([1,2,3,4])\n",
        "y = np.array([10,20,30,40])\n",
        "plt.plot(x,y)"
      ],
      "metadata": {
        "id": "zHz1KiOwyzB-"
      },
      "execution_count": null,
      "outputs": []
    },
    {
      "cell_type": "code",
      "source": [
        "ypoint = np.array([3,8,1,10,5,7])\n",
        "plt.plot(ypoint)\n",
        "plt.show()"
      ],
      "metadata": {
        "id": "wrgkmhy_yzEw"
      },
      "execution_count": null,
      "outputs": []
    },
    {
      "cell_type": "code",
      "source": [
        "days = list(range(0,22, 3))\n",
        "celcius_values = [25.1, 24.6, 28, 27.8,32.8,30.5,32.8,33.1]\n",
        "\n",
        "plt.plot(days, celcius_values)\n",
        "plt.show()"
      ],
      "metadata": {
        "id": "8eKiiGSGyzHQ"
      },
      "execution_count": null,
      "outputs": []
    },
    {
      "cell_type": "code",
      "source": [
        "x = np.arange(1,11)\n",
        "y = np.exp(x)  \n",
        "plt.plot(x,y)"
      ],
      "metadata": {
        "id": "r5s-T9S0yzJ3"
      },
      "execution_count": null,
      "outputs": []
    },
    {
      "cell_type": "code",
      "source": [
        "y = np.array([3,8,1,10])\n",
        "plt.plot(y, linestyle='-.')\n",
        "plt.show()"
      ],
      "metadata": {
        "id": "jldW-6TZyzMl"
      },
      "execution_count": null,
      "outputs": []
    },
    {
      "cell_type": "code",
      "source": [
        "y = np.array([3,8,1,10])\n",
        "plt.plot(y, linestyle='dotted', color='g', linewidth='12')\n",
        "plt.show()\n",
        "\n"
      ],
      "metadata": {
        "id": "tEBCNJO9yzPB"
      },
      "execution_count": null,
      "outputs": []
    },
    {
      "cell_type": "code",
      "source": [
        "y = np.array([3,8,1,10])\n",
        "y1 = np.array([6,2,7,11])\n",
        "plt.plot(y, linestyle='-.')\n",
        "plt.plot(y)\n",
        "plt.plot(y1)\n",
        "plt.show()"
      ],
      "metadata": {
        "id": "hTlvP-WQyzRc"
      },
      "execution_count": null,
      "outputs": []
    },
    {
      "cell_type": "code",
      "source": [
        "n = 256\n",
        "\n",
        "x = np.linspace(-np.pi, np.pi, n, endpoint=True)\n",
        "y = np.sin(2*x)\n",
        "y1=  np.cos(2*x)\n",
        "\n",
        "plt.plot(x,y, color='blue', alpha=1.00)\n",
        "plt.plot(x,y1, color='green', alpha=1.00)\n",
        "plt.fill_between(x,y,0, color='blue', alpha=.1)\n",
        "plt.fill_between(x,y1,0, color='green', alpha=.1)\n",
        "plt.show()"
      ],
      "metadata": {
        "id": "565Y7RRHyzUQ"
      },
      "execution_count": null,
      "outputs": []
    },
    {
      "cell_type": "code",
      "source": [
        "n = 256\n",
        "\n",
        "x = np.linspace(-np.pi, np.pi, n, endpoint=True)\n",
        "y = np.cos(2*x)\n",
        "plt.plot(x,y, color='green', alpha=1.00)\n",
        "plt.fill_between(x,y,0, color='blue', alpha=.1)\n",
        "plt.show()"
      ],
      "metadata": {
        "id": "oo706_NfyzW1"
      },
      "execution_count": null,
      "outputs": []
    },
    {
      "cell_type": "code",
      "source": [
        "n = 256\n",
        "\n",
        "x = np.linspace(-np.pi, np.pi, n, endpoint=True)\n",
        "y = np.tan(2*x)\n",
        "plt.plot(x,y, color='green', alpha=1.00)\n",
        "plt.fill_between(x,y,0, color='blue', alpha=.1)\n",
        "plt.show()"
      ],
      "metadata": {
        "id": "v_pdLJ-7yzac"
      },
      "execution_count": null,
      "outputs": []
    },
    {
      "cell_type": "code",
      "source": [
        "# marker\n",
        "\n",
        "x1 = np.array([0,1,2,3])\n",
        "y1 = np.array([3,8,1,10])\n",
        "x2 = np.array([0,1,2,3])\n",
        "y2 = np.array([6,2,7,11])\n",
        "\n",
        "plt.plot(x1,y1,x2,y2, marker='o')\n",
        "plt.xlabel('profit')\n",
        "plt.ylabel('month')\n",
        "plt.title('Monthly Profit')\n",
        "plt.legend(labels=('may','april'),loc='lower right')\n",
        "plt.show()"
      ],
      "metadata": {
        "id": "qcl3xb3Iyzc3"
      },
      "execution_count": null,
      "outputs": []
    },
    {
      "cell_type": "code",
      "source": [
        "import matplotlib.pyplot as plt\n",
        "\n",
        "y = [1,4,9,16,25,36,49,64]\n",
        "x1 = [1,16,30,42,55,68,77,88]\n",
        "x2 = [1,6,12,18,28,40,52,65]\n",
        "\n",
        "plt.plot(x1,y, 'ys-')\n",
        "plt.plot(x2,y, 'go--')\n",
        "plt.legend(labels = ('tv','smartphone'), loc = 'lower right')\n",
        "plt.grid(True)\n",
        "plt.title('Digital Sales')\n",
        "plt.xlabel('medium')\n",
        "plt.ylabel('sales')\n",
        "plt.show()"
      ],
      "metadata": {
        "id": "ivM_49d-yzgU"
      },
      "execution_count": null,
      "outputs": []
    },
    {
      "cell_type": "code",
      "source": [
        "#data display - bar\n",
        "\n",
        "import matplotlib.pyplot as plt\n",
        "import numpy as np\n",
        "\n",
        "\n",
        "x = np.array = [\"A\",\"B\",\"C\",\"D\"]\n",
        "y = np.array = [3,8,1,10]\n",
        "plt.bar(x,y)\n",
        "plt.show()"
      ],
      "metadata": {
        "id": "k97RxXQaM7yc"
      },
      "execution_count": null,
      "outputs": []
    },
    {
      "cell_type": "code",
      "source": [
        "#Employee performance\n",
        "\n",
        "x = ['Ramesh','Suresh','Mangal','Prashant']\n",
        "y = [900, 800,700,980]\n",
        "plt.barh(x,y)\n",
        "plt.show()"
      ],
      "metadata": {
        "id": "AVWzm3JzO3gH"
      },
      "execution_count": null,
      "outputs": []
    },
    {
      "cell_type": "code",
      "source": [
        "#Employee performance\n",
        "\n",
        "x = ['Ramesh','Suresh','Mangal','Prashant']\n",
        "y = [900, 800,700,980]\n",
        "plt.bar(x,y, color = 'r')\n",
        "plt.show()"
      ],
      "metadata": {
        "id": "TOL-PpagOqfZ"
      },
      "execution_count": null,
      "outputs": []
    },
    {
      "cell_type": "code",
      "source": [
        ""
      ],
      "metadata": {
        "id": "pETa3hhdM7-O"
      },
      "execution_count": null,
      "outputs": []
    },
    {
      "cell_type": "code",
      "source": [
        "#Employee performance\n",
        "\n",
        "x = ['Ramesh','Suresh','Mangal','Prashant']\n",
        "y = [900, 800,700,980]\n",
        "plt.bar(x,y, color = '#4CAF10')\n",
        "plt.show()"
      ],
      "metadata": {
        "id": "N3NQ7VlhM8Kw"
      },
      "execution_count": null,
      "outputs": []
    },
    {
      "cell_type": "code",
      "source": [
        "Team1 = [20, 35, 30, 35, 27]\n",
        "Team2 = [25, 12, 34, 20, 25]\n",
        "\n",
        "group = np.arange(5)\n",
        "plt.bar(group, Team1, width=.35, color=\"y\") \n",
        "plt.bar(group, Team2, width-.35, bottom=Team1, color=\"b\") \n",
        "plt.xlabel('Scores')\n",
        "plt.ylabel('Groups')\n",
        "\n",
        "plt.title('Cricket Scores by IND vs AUS')\n",
        "plt.xticks((group, ('G1','G2','G3','G4','G5'))\n",
        "plt.yticks(np.arange(0,81,10))\n",
        "plt.legend(labels=['Aus','Ind'])\n",
        "plt.show()\n"
      ],
      "metadata": {
        "id": "fqQU-nJRM8VM"
      },
      "execution_count": null,
      "outputs": []
    },
    {
      "cell_type": "code",
      "source": [
        " y = np.array([35,25,65,15])\n",
        " lb = ['Loans','CrF','CASA','DbF']\n",
        "\n",
        " plt.pie(y, labels=lb)\n",
        " plt.show()"
      ],
      "metadata": {
        "id": "oII5VllrPSze"
      },
      "execution_count": null,
      "outputs": []
    },
    {
      "cell_type": "code",
      "source": [
        "# Employee performance\n",
        "\n",
        "x = ['Ramesh','Suresh', 'Mahesh','Prashant']\n",
        "y = [900,800,700,980]\n",
        "\n",
        "plt.bar(x,y, color = 'r')\n",
        "plt.show()"
      ],
      "metadata": {
        "id": "YpVxTxC8WKiV"
      },
      "execution_count": null,
      "outputs": []
    },
    {
      "cell_type": "code",
      "source": [
        "# Employee performance\n",
        "\n",
        "x = ['Ramesh','Suresh', 'Mahesh','Prashant']\n",
        "y = [900,800,700,980]\n",
        "\n",
        "plt.bar(x,y)\n",
        "plt.show()"
      ],
      "metadata": {
        "id": "-82ZnmD6WKlN"
      },
      "execution_count": null,
      "outputs": []
    },
    {
      "cell_type": "code",
      "source": [
        "import matplotlib.pyplot as plt\n",
        "y = [1,4,9,16,25,36,49,64]\n",
        "x1 = [1,16,30,42,55,68,77,88]\n",
        "x2 = [1,6,12,18,28,40,52,65]\n",
        "\n",
        "plt.plot(x1,y, 'ys-')\n",
        "plt.plot(x2,y, 'go--')\n",
        "plt.legend(labels=('tv','smartphone'), loc = 'lower right')\n",
        "plt.grid(True)\n",
        "plt.title('Product Sales')\n",
        "plt.xlabel('medium')\n",
        "plt.ylabel('sales')\n",
        "plt.show()"
      ],
      "metadata": {
        "id": "TYF5q89tWKoL"
      },
      "execution_count": null,
      "outputs": []
    },
    {
      "cell_type": "code",
      "source": [
        "# marker\n",
        "\n",
        "x1 = np.array([0,1,2,3])\n",
        "y1 = np.array([3,8,1,10])\n",
        "x2 = np.array([0,1,2,3])\n",
        "y2 = np.array([6,2,7,11])\n",
        "\n",
        "plt.plot(x1,y1, x2,y2, marker = 'o')\n",
        "plt.xlabel('profit')\n",
        "plt.ylabel('month')\n",
        "plt.title('Monthly Profit')\n",
        "plt.legend(labels=('may','april'),loc = 'lower right')\n",
        "plt.show()"
      ],
      "metadata": {
        "id": "gkkxS50LWKqZ"
      },
      "execution_count": null,
      "outputs": []
    },
    {
      "cell_type": "code",
      "source": [
        "n = 256\n",
        "x = np.linspace(-np.pi, np.pi, n, endpoint = True)\n",
        "y = np.sin(2*x)\n",
        "plt.plot(x,y, color='blue', alpha = 1)\n",
        "plt.fill_between(x,y,1, color = 'blue', alpha = .1)\n",
        "plt.show()"
      ],
      "metadata": {
        "id": "--_vpJV2WKtK"
      },
      "execution_count": null,
      "outputs": []
    },
    {
      "cell_type": "code",
      "source": [
        "# Financial instruments, loans, credit car data,  CASA(), debitcars()\n",
        "\n",
        "y = np.array([35,25,65,15])\n",
        "lb = ['loan','crf','casa','ddf']\n",
        "exp = [0.2,0,0.3,0.1]\n",
        "\n",
        "plt.pie(y, labels=lb, startangle=180, explode=exp ,shadow = True)\n",
        "plt.legend(title='blank finance data', loc='lower left')\n",
        "plt.show()"
      ],
      "metadata": {
        "id": "xuqlkQIOWKvX"
      },
      "execution_count": null,
      "outputs": []
    },
    {
      "cell_type": "code",
      "source": [
        ""
      ],
      "metadata": {
        "id": "wL3i86WD07ZV"
      },
      "execution_count": null,
      "outputs": []
    },
    {
      "cell_type": "code",
      "source": [
        ""
      ],
      "metadata": {
        "id": "Z2szU3d_WKxg"
      },
      "execution_count": null,
      "outputs": []
    },
    {
      "cell_type": "code",
      "source": [
        ""
      ],
      "metadata": {
        "id": "C4ZqRfAHWK0U"
      },
      "execution_count": null,
      "outputs": []
    },
    {
      "cell_type": "code",
      "source": [
        ""
      ],
      "metadata": {
        "id": "SumlumGwWK3M"
      },
      "execution_count": null,
      "outputs": []
    },
    {
      "cell_type": "code",
      "source": [
        ""
      ],
      "metadata": {
        "id": "m7mKZsI1WK5l"
      },
      "execution_count": null,
      "outputs": []
    },
    {
      "cell_type": "code",
      "source": [
        ""
      ],
      "metadata": {
        "id": "bWtrLr9qWK8X"
      },
      "execution_count": null,
      "outputs": []
    },
    {
      "cell_type": "code",
      "source": [
        ""
      ],
      "metadata": {
        "id": "O4GMkI8GWK-u"
      },
      "execution_count": null,
      "outputs": []
    },
    {
      "cell_type": "code",
      "source": [
        ""
      ],
      "metadata": {
        "id": "ndhNEjbxPS21"
      },
      "execution_count": null,
      "outputs": []
    }
  ]
}